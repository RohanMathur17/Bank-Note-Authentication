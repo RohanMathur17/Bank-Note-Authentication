{
  "nbformat": 4,
  "nbformat_minor": 0,
  "metadata": {
    "colab": {
      "name": "HappyMonk.ipynb",
      "provenance": [],
      "collapsed_sections": [],
      "authorship_tag": "ABX9TyNvQZ9KQky6VajoSwUAlA95",
      "include_colab_link": true
    },
    "kernelspec": {
      "name": "python3",
      "display_name": "Python 3"
    },
    "language_info": {
      "name": "python"
    }
  },
  "cells": [
    {
      "cell_type": "markdown",
      "metadata": {
        "id": "view-in-github",
        "colab_type": "text"
      },
      "source": [
        "<a href=\"https://colab.research.google.com/github/RohanMathur17/Bank-Note-Authentication/blob/main/src/bank_note_authentication.ipynb\" target=\"_parent\"><img src=\"https://colab.research.google.com/assets/colab-badge.svg\" alt=\"Open In Colab\"/></a>"
      ]
    },
    {
      "cell_type": "code",
      "metadata": {
        "colab": {
          "base_uri": "https://localhost:8080/"
        },
        "id": "nwddgSybO8mc",
        "outputId": "e9e14fe6-ce7c-4e4a-fcb2-35a2edd4ba73"
      },
      "source": [
        "from google.colab import drive\n",
        "drive.mount('/content/drive')"
      ],
      "execution_count": 1,
      "outputs": [
        {
          "output_type": "stream",
          "text": [
            "Drive already mounted at /content/drive; to attempt to forcibly remount, call drive.mount(\"/content/drive\", force_remount=True).\n"
          ],
          "name": "stdout"
        }
      ]
    },
    {
      "cell_type": "code",
      "metadata": {
        "id": "cSjrEY14a6L1"
      },
      "source": [
        "import pandas as pd\n",
        "\n",
        "import numpy as np\n",
        "from numpy import array\n",
        "from numpy import argmax\n",
        "\n",
        "\n",
        "import tensorflow as tf\n",
        "from tensorflow import keras\n",
        "from keras.utils import to_categorical\n",
        "from tensorflow.keras.optimizers import Adam , SGD , RMSprop\n",
        "\n",
        "from sklearn.model_selection import train_test_split\n",
        "\n",
        "from sklearn.metrics import accuracy_score\n",
        "from sklearn.metrics import precision_score\n",
        "from sklearn.metrics import recall_score\n",
        "from sklearn.metrics import f1_score\n",
        "\n",
        "from sklearn.preprocessing import StandardScaler\n",
        "\n",
        "import matplotlib.pyplot as plt"
      ],
      "execution_count": 2,
      "outputs": []
    },
    {
      "cell_type": "code",
      "metadata": {
        "id": "5NGoEnSBP4vg"
      },
      "source": [
        "df = pd.read_csv('/content/drive/MyDrive/HappyMonk/BankNote_Authentication.csv')"
      ],
      "execution_count": 3,
      "outputs": []
    },
    {
      "cell_type": "code",
      "metadata": {
        "colab": {
          "base_uri": "https://localhost:8080/",
          "height": 195
        },
        "id": "e4_dvzJHQMZ5",
        "outputId": "64e1f40f-3778-4743-fdce-63bbdaf9d59a"
      },
      "source": [
        "df.head()"
      ],
      "execution_count": 4,
      "outputs": [
        {
          "output_type": "execute_result",
          "data": {
            "text/html": [
              "<div>\n",
              "<style scoped>\n",
              "    .dataframe tbody tr th:only-of-type {\n",
              "        vertical-align: middle;\n",
              "    }\n",
              "\n",
              "    .dataframe tbody tr th {\n",
              "        vertical-align: top;\n",
              "    }\n",
              "\n",
              "    .dataframe thead th {\n",
              "        text-align: right;\n",
              "    }\n",
              "</style>\n",
              "<table border=\"1\" class=\"dataframe\">\n",
              "  <thead>\n",
              "    <tr style=\"text-align: right;\">\n",
              "      <th></th>\n",
              "      <th>variance</th>\n",
              "      <th>skewness</th>\n",
              "      <th>curtosis</th>\n",
              "      <th>entropy</th>\n",
              "      <th>class</th>\n",
              "    </tr>\n",
              "  </thead>\n",
              "  <tbody>\n",
              "    <tr>\n",
              "      <th>0</th>\n",
              "      <td>3.62160</td>\n",
              "      <td>8.6661</td>\n",
              "      <td>-2.8073</td>\n",
              "      <td>-0.44699</td>\n",
              "      <td>0</td>\n",
              "    </tr>\n",
              "    <tr>\n",
              "      <th>1</th>\n",
              "      <td>4.54590</td>\n",
              "      <td>8.1674</td>\n",
              "      <td>-2.4586</td>\n",
              "      <td>-1.46210</td>\n",
              "      <td>0</td>\n",
              "    </tr>\n",
              "    <tr>\n",
              "      <th>2</th>\n",
              "      <td>3.86600</td>\n",
              "      <td>-2.6383</td>\n",
              "      <td>1.9242</td>\n",
              "      <td>0.10645</td>\n",
              "      <td>0</td>\n",
              "    </tr>\n",
              "    <tr>\n",
              "      <th>3</th>\n",
              "      <td>3.45660</td>\n",
              "      <td>9.5228</td>\n",
              "      <td>-4.0112</td>\n",
              "      <td>-3.59440</td>\n",
              "      <td>0</td>\n",
              "    </tr>\n",
              "    <tr>\n",
              "      <th>4</th>\n",
              "      <td>0.32924</td>\n",
              "      <td>-4.4552</td>\n",
              "      <td>4.5718</td>\n",
              "      <td>-0.98880</td>\n",
              "      <td>0</td>\n",
              "    </tr>\n",
              "  </tbody>\n",
              "</table>\n",
              "</div>"
            ],
            "text/plain": [
              "   variance  skewness  curtosis  entropy  class\n",
              "0   3.62160    8.6661   -2.8073 -0.44699      0\n",
              "1   4.54590    8.1674   -2.4586 -1.46210      0\n",
              "2   3.86600   -2.6383    1.9242  0.10645      0\n",
              "3   3.45660    9.5228   -4.0112 -3.59440      0\n",
              "4   0.32924   -4.4552    4.5718 -0.98880      0"
            ]
          },
          "metadata": {
            "tags": []
          },
          "execution_count": 4
        }
      ]
    },
    {
      "cell_type": "code",
      "metadata": {
        "colab": {
          "base_uri": "https://localhost:8080/"
        },
        "id": "FaKSJ986QNG0",
        "outputId": "b0892ea4-c55e-495d-98ca-79f25c4469d2"
      },
      "source": [
        "df.shape"
      ],
      "execution_count": 5,
      "outputs": [
        {
          "output_type": "execute_result",
          "data": {
            "text/plain": [
              "(1372, 5)"
            ]
          },
          "metadata": {
            "tags": []
          },
          "execution_count": 5
        }
      ]
    },
    {
      "cell_type": "code",
      "metadata": {
        "colab": {
          "base_uri": "https://localhost:8080/"
        },
        "id": "BZIuXlMPQQMZ",
        "outputId": "9d8985a7-f48c-4c63-8150-a6e991a5f273"
      },
      "source": [
        "df['class'].value_counts()"
      ],
      "execution_count": 6,
      "outputs": [
        {
          "output_type": "execute_result",
          "data": {
            "text/plain": [
              "0    762\n",
              "1    610\n",
              "Name: class, dtype: int64"
            ]
          },
          "metadata": {
            "tags": []
          },
          "execution_count": 6
        }
      ]
    },
    {
      "cell_type": "code",
      "metadata": {
        "colab": {
          "base_uri": "https://localhost:8080/",
          "height": 284
        },
        "id": "VHj52inQQT-2",
        "outputId": "b52aca11-c478-4993-8b15-29f3460a4169"
      },
      "source": [
        "df.describe()"
      ],
      "execution_count": 7,
      "outputs": [
        {
          "output_type": "execute_result",
          "data": {
            "text/html": [
              "<div>\n",
              "<style scoped>\n",
              "    .dataframe tbody tr th:only-of-type {\n",
              "        vertical-align: middle;\n",
              "    }\n",
              "\n",
              "    .dataframe tbody tr th {\n",
              "        vertical-align: top;\n",
              "    }\n",
              "\n",
              "    .dataframe thead th {\n",
              "        text-align: right;\n",
              "    }\n",
              "</style>\n",
              "<table border=\"1\" class=\"dataframe\">\n",
              "  <thead>\n",
              "    <tr style=\"text-align: right;\">\n",
              "      <th></th>\n",
              "      <th>variance</th>\n",
              "      <th>skewness</th>\n",
              "      <th>curtosis</th>\n",
              "      <th>entropy</th>\n",
              "      <th>class</th>\n",
              "    </tr>\n",
              "  </thead>\n",
              "  <tbody>\n",
              "    <tr>\n",
              "      <th>count</th>\n",
              "      <td>1372.000000</td>\n",
              "      <td>1372.000000</td>\n",
              "      <td>1372.000000</td>\n",
              "      <td>1372.000000</td>\n",
              "      <td>1372.000000</td>\n",
              "    </tr>\n",
              "    <tr>\n",
              "      <th>mean</th>\n",
              "      <td>0.433735</td>\n",
              "      <td>1.922353</td>\n",
              "      <td>1.397627</td>\n",
              "      <td>-1.191657</td>\n",
              "      <td>0.444606</td>\n",
              "    </tr>\n",
              "    <tr>\n",
              "      <th>std</th>\n",
              "      <td>2.842763</td>\n",
              "      <td>5.869047</td>\n",
              "      <td>4.310030</td>\n",
              "      <td>2.101013</td>\n",
              "      <td>0.497103</td>\n",
              "    </tr>\n",
              "    <tr>\n",
              "      <th>min</th>\n",
              "      <td>-7.042100</td>\n",
              "      <td>-13.773100</td>\n",
              "      <td>-5.286100</td>\n",
              "      <td>-8.548200</td>\n",
              "      <td>0.000000</td>\n",
              "    </tr>\n",
              "    <tr>\n",
              "      <th>25%</th>\n",
              "      <td>-1.773000</td>\n",
              "      <td>-1.708200</td>\n",
              "      <td>-1.574975</td>\n",
              "      <td>-2.413450</td>\n",
              "      <td>0.000000</td>\n",
              "    </tr>\n",
              "    <tr>\n",
              "      <th>50%</th>\n",
              "      <td>0.496180</td>\n",
              "      <td>2.319650</td>\n",
              "      <td>0.616630</td>\n",
              "      <td>-0.586650</td>\n",
              "      <td>0.000000</td>\n",
              "    </tr>\n",
              "    <tr>\n",
              "      <th>75%</th>\n",
              "      <td>2.821475</td>\n",
              "      <td>6.814625</td>\n",
              "      <td>3.179250</td>\n",
              "      <td>0.394810</td>\n",
              "      <td>1.000000</td>\n",
              "    </tr>\n",
              "    <tr>\n",
              "      <th>max</th>\n",
              "      <td>6.824800</td>\n",
              "      <td>12.951600</td>\n",
              "      <td>17.927400</td>\n",
              "      <td>2.449500</td>\n",
              "      <td>1.000000</td>\n",
              "    </tr>\n",
              "  </tbody>\n",
              "</table>\n",
              "</div>"
            ],
            "text/plain": [
              "          variance     skewness     curtosis      entropy        class\n",
              "count  1372.000000  1372.000000  1372.000000  1372.000000  1372.000000\n",
              "mean      0.433735     1.922353     1.397627    -1.191657     0.444606\n",
              "std       2.842763     5.869047     4.310030     2.101013     0.497103\n",
              "min      -7.042100   -13.773100    -5.286100    -8.548200     0.000000\n",
              "25%      -1.773000    -1.708200    -1.574975    -2.413450     0.000000\n",
              "50%       0.496180     2.319650     0.616630    -0.586650     0.000000\n",
              "75%       2.821475     6.814625     3.179250     0.394810     1.000000\n",
              "max       6.824800    12.951600    17.927400     2.449500     1.000000"
            ]
          },
          "metadata": {
            "tags": []
          },
          "execution_count": 7
        }
      ]
    },
    {
      "cell_type": "code",
      "metadata": {
        "colab": {
          "base_uri": "https://localhost:8080/"
        },
        "id": "p4OQNKYiTkXX",
        "outputId": "a0912f47-3af5-4212-eb35-0ff265db379f"
      },
      "source": [
        "df.columns.isnull()"
      ],
      "execution_count": 8,
      "outputs": [
        {
          "output_type": "execute_result",
          "data": {
            "text/plain": [
              "array([False, False, False, False, False])"
            ]
          },
          "metadata": {
            "tags": []
          },
          "execution_count": 8
        }
      ]
    },
    {
      "cell_type": "markdown",
      "metadata": {
        "id": "HkD29o3ZMz2z"
      },
      "source": [
        "## **Using different activation functions**"
      ]
    },
    {
      "cell_type": "markdown",
      "metadata": {
        "id": "_2yf54k-nRBu"
      },
      "source": [
        "### **On Raw Data**\n",
        "\n",
        "1) **Using Sigmoid Function**"
      ]
    },
    {
      "cell_type": "code",
      "metadata": {
        "id": "a7eU1GAJn5Wd"
      },
      "source": [
        "X= df.drop(['class'], axis=1)\n",
        "y= df['class']"
      ],
      "execution_count": 9,
      "outputs": []
    },
    {
      "cell_type": "code",
      "metadata": {
        "colab": {
          "base_uri": "https://localhost:8080/"
        },
        "id": "9rxx-Zj5rMyG",
        "outputId": "bf2860ba-8071-42f5-850f-aae4b282cbf3"
      },
      "source": [
        "y"
      ],
      "execution_count": 10,
      "outputs": [
        {
          "output_type": "execute_result",
          "data": {
            "text/plain": [
              "0       0\n",
              "1       0\n",
              "2       0\n",
              "3       0\n",
              "4       0\n",
              "       ..\n",
              "1367    1\n",
              "1368    1\n",
              "1369    1\n",
              "1370    1\n",
              "1371    1\n",
              "Name: class, Length: 1372, dtype: int64"
            ]
          },
          "metadata": {
            "tags": []
          },
          "execution_count": 10
        }
      ]
    },
    {
      "cell_type": "code",
      "metadata": {
        "id": "WUTGrJpTnza7"
      },
      "source": [
        "x_train, x_test, y_train, y_test = train_test_split(X , y , test_size = 0.2, random_state = 42)"
      ],
      "execution_count": 11,
      "outputs": []
    },
    {
      "cell_type": "code",
      "metadata": {
        "id": "2E7_TP4uobYw"
      },
      "source": [
        "model_1 = tf.keras.models.Sequential([                    \n",
        "        tf.keras.layers.Dense(4,activation='relu'),\n",
        "        tf.keras.layers.Dense(1,activation='sigmoid')\n",
        "])"
      ],
      "execution_count": 12,
      "outputs": []
    },
    {
      "cell_type": "code",
      "metadata": {
        "id": "Uwy6EueFojJs"
      },
      "source": [
        "model_1.compile(optimizer='adam' , \n",
        "                loss=tf.keras.losses.binary_crossentropy , \n",
        "                metrics=['accuracy'])"
      ],
      "execution_count": 13,
      "outputs": []
    },
    {
      "cell_type": "code",
      "metadata": {
        "colab": {
          "base_uri": "https://localhost:8080/"
        },
        "id": "Bo261fx9p_MV",
        "outputId": "c6f6f9ef-9dba-4afd-8597-f6c289c76348"
      },
      "source": [
        "y_train.shape"
      ],
      "execution_count": 14,
      "outputs": [
        {
          "output_type": "execute_result",
          "data": {
            "text/plain": [
              "(1097,)"
            ]
          },
          "metadata": {
            "tags": []
          },
          "execution_count": 14
        }
      ]
    },
    {
      "cell_type": "code",
      "metadata": {
        "colab": {
          "base_uri": "https://localhost:8080/"
        },
        "id": "1ZNLOHD7olm6",
        "outputId": "1a33a427-1148-457f-aeca-f28b56125fdf"
      },
      "source": [
        "history_1 = model_1.fit(x_train, y_train, epochs=20 , validation_data=(x_test, y_test))"
      ],
      "execution_count": 15,
      "outputs": [
        {
          "output_type": "stream",
          "text": [
            "Epoch 1/20\n",
            "35/35 [==============================] - 1s 16ms/step - loss: 0.6686 - accuracy: 0.6698 - val_loss: 0.6303 - val_accuracy: 0.7055\n",
            "Epoch 2/20\n",
            "35/35 [==============================] - 0s 3ms/step - loss: 0.6295 - accuracy: 0.6953 - val_loss: 0.5888 - val_accuracy: 0.7273\n",
            "Epoch 3/20\n",
            "35/35 [==============================] - 0s 2ms/step - loss: 0.5777 - accuracy: 0.7429 - val_loss: 0.5502 - val_accuracy: 0.7418\n",
            "Epoch 4/20\n",
            "35/35 [==============================] - 0s 3ms/step - loss: 0.5173 - accuracy: 0.7835 - val_loss: 0.5092 - val_accuracy: 0.7636\n",
            "Epoch 5/20\n",
            "35/35 [==============================] - 0s 3ms/step - loss: 0.4997 - accuracy: 0.7825 - val_loss: 0.4659 - val_accuracy: 0.8109\n",
            "Epoch 6/20\n",
            "35/35 [==============================] - 0s 3ms/step - loss: 0.4630 - accuracy: 0.8124 - val_loss: 0.4241 - val_accuracy: 0.8473\n",
            "Epoch 7/20\n",
            "35/35 [==============================] - 0s 3ms/step - loss: 0.4185 - accuracy: 0.8686 - val_loss: 0.3815 - val_accuracy: 0.9018\n",
            "Epoch 8/20\n",
            "35/35 [==============================] - 0s 2ms/step - loss: 0.3648 - accuracy: 0.9040 - val_loss: 0.3420 - val_accuracy: 0.9164\n",
            "Epoch 9/20\n",
            "35/35 [==============================] - 0s 2ms/step - loss: 0.3363 - accuracy: 0.9277 - val_loss: 0.3050 - val_accuracy: 0.9382\n",
            "Epoch 10/20\n",
            "35/35 [==============================] - 0s 3ms/step - loss: 0.2931 - accuracy: 0.9561 - val_loss: 0.2723 - val_accuracy: 0.9382\n",
            "Epoch 11/20\n",
            "35/35 [==============================] - 0s 3ms/step - loss: 0.2747 - accuracy: 0.9452 - val_loss: 0.2435 - val_accuracy: 0.9455\n",
            "Epoch 12/20\n",
            "35/35 [==============================] - 0s 3ms/step - loss: 0.2297 - accuracy: 0.9607 - val_loss: 0.2173 - val_accuracy: 0.9745\n",
            "Epoch 13/20\n",
            "35/35 [==============================] - 0s 2ms/step - loss: 0.2137 - accuracy: 0.9683 - val_loss: 0.1947 - val_accuracy: 0.9745\n",
            "Epoch 14/20\n",
            "35/35 [==============================] - 0s 2ms/step - loss: 0.1937 - accuracy: 0.9789 - val_loss: 0.1746 - val_accuracy: 0.9855\n",
            "Epoch 15/20\n",
            "35/35 [==============================] - 0s 3ms/step - loss: 0.1719 - accuracy: 0.9744 - val_loss: 0.1571 - val_accuracy: 0.9855\n",
            "Epoch 16/20\n",
            "35/35 [==============================] - 0s 3ms/step - loss: 0.1567 - accuracy: 0.9805 - val_loss: 0.1416 - val_accuracy: 0.9855\n",
            "Epoch 17/20\n",
            "35/35 [==============================] - 0s 3ms/step - loss: 0.1478 - accuracy: 0.9794 - val_loss: 0.1289 - val_accuracy: 0.9855\n",
            "Epoch 18/20\n",
            "35/35 [==============================] - 0s 3ms/step - loss: 0.1284 - accuracy: 0.9829 - val_loss: 0.1177 - val_accuracy: 0.9855\n",
            "Epoch 19/20\n",
            "35/35 [==============================] - 0s 3ms/step - loss: 0.1239 - accuracy: 0.9827 - val_loss: 0.1080 - val_accuracy: 0.9855\n",
            "Epoch 20/20\n",
            "35/35 [==============================] - 0s 3ms/step - loss: 0.1029 - accuracy: 0.9926 - val_loss: 0.0995 - val_accuracy: 0.9855\n"
          ],
          "name": "stdout"
        }
      ]
    },
    {
      "cell_type": "code",
      "metadata": {
        "colab": {
          "base_uri": "https://localhost:8080/"
        },
        "id": "uCLJIdGgo5A7",
        "outputId": "19a40802-410e-40af-bbab-129c502f6ed6"
      },
      "source": [
        "model_1.summary()"
      ],
      "execution_count": 16,
      "outputs": [
        {
          "output_type": "stream",
          "text": [
            "Model: \"sequential\"\n",
            "_________________________________________________________________\n",
            "Layer (type)                 Output Shape              Param #   \n",
            "=================================================================\n",
            "dense (Dense)                (None, 4)                 20        \n",
            "_________________________________________________________________\n",
            "dense_1 (Dense)              (None, 1)                 5         \n",
            "=================================================================\n",
            "Total params: 25\n",
            "Trainable params: 25\n",
            "Non-trainable params: 0\n",
            "_________________________________________________________________\n"
          ],
          "name": "stdout"
        }
      ]
    },
    {
      "cell_type": "code",
      "metadata": {
        "colab": {
          "base_uri": "https://localhost:8080/"
        },
        "id": "E1B1adSvudss",
        "outputId": "d6014ef6-c857-427f-feec-ecb60b7d1db9"
      },
      "source": [
        "print(history_1.history.keys())"
      ],
      "execution_count": 17,
      "outputs": [
        {
          "output_type": "stream",
          "text": [
            "dict_keys(['loss', 'accuracy', 'val_loss', 'val_accuracy'])\n"
          ],
          "name": "stdout"
        }
      ]
    },
    {
      "cell_type": "code",
      "metadata": {
        "colab": {
          "base_uri": "https://localhost:8080/",
          "height": 295
        },
        "id": "c2xpMQOBtCph",
        "outputId": "8422b8dd-4503-4335-d6e6-b615c629be4f"
      },
      "source": [
        "loss_train = history_1.history['loss']\n",
        "loss_val = history_1.history['val_loss']\n",
        "\n",
        "acc_train = history_1.history['accuracy']\n",
        "acc_val = history_1.history['val_accuracy']\n",
        "\n",
        "\n",
        "epochs = range(0,20)\n",
        "\n",
        "plt.plot(epochs, loss_train, 'g', label='Training loss')\n",
        "plt.plot(epochs, loss_val, 'b', label='Validation loss')\n",
        "\n",
        "\n",
        "plt.plot(epochs, acc_train, 'red', label='Training accuracy')\n",
        "plt.plot(epochs, acc_val, 'black', label='Validation accuracy')\n",
        "\n",
        "\n",
        "plt.title('Training and Validation loss')\n",
        "plt.xlabel('Epochs')\n",
        "plt.ylabel('Loss')\n",
        "plt.legend()\n",
        "\n",
        "plt.show()"
      ],
      "execution_count": 56,
      "outputs": [
        {
          "output_type": "display_data",
          "data": {
            "image/png": "[encoded data removed]",
            "text/plain": [
              "<Figure size 432x288 with 1 Axes>"
            ]
          },
          "metadata": {
            "tags": [],
            "needs_background": "light"
          }
        }
      ]
    },
    {
      "cell_type": "code",
      "metadata": {
        "colab": {
          "base_uri": "https://localhost:8080/"
        },
        "id": "tRwwqB3LTruf",
        "outputId": "bc7bdc69-a63e-43d7-ca91-b4af490a9acc"
      },
      "source": [
        "yhat_classes = model_1.predict_classes(x_test, verbose=0)\n",
        "\n",
        "yhat_classes = yhat_classes[:, 0]\n",
        " \n",
        "accuracy_1 = accuracy_score(y_test, yhat_classes)\n",
        "print('Accuracy: %f' % accuracy_1)\n",
        "\n",
        "precision_1 = precision_score(y_test, yhat_classes)\n",
        "print('Precision: %f' % precision_1)\n",
        "\n",
        "recall_1 = recall_score(y_test, yhat_classes)\n",
        "print('Recall: %f' % recall_1)\n",
        "\n",
        "f1_1 = f1_score(y_test, yhat_classes)\n",
        "print('F1 score: %f' % f1_1)"
      ],
      "execution_count": 20,
      "outputs": [
        {
          "output_type": "stream",
          "text": [
            "Accuracy: 0.985455\n",
            "Precision: 0.984252\n",
            "Recall: 0.984252\n",
            "F1 score: 0.984252\n"
          ],
          "name": "stdout"
        },
        {
          "output_type": "stream",
          "text": [
            "/usr/local/lib/python3.7/dist-packages/tensorflow/python/keras/engine/sequential.py:450: UserWarning: `model.predict_classes()` is deprecated and will be removed after 2021-01-01. Please use instead:* `np.argmax(model.predict(x), axis=-1)`,   if your model does multi-class classification   (e.g. if it uses a `softmax` last-layer activation).* `(model.predict(x) > 0.5).astype(\"int32\")`,   if your model does binary classification   (e.g. if it uses a `sigmoid` last-layer activation).\n",
            "  warnings.warn('`model.predict_classes()` is deprecated and '\n"
          ],
          "name": "stderr"
        }
      ]
    },
    {
      "cell_type": "markdown",
      "metadata": {
        "id": "NLmf8XbiGziU"
      },
      "source": [
        "## **After Scaling Data**"
      ]
    },
    {
      "cell_type": "code",
      "metadata": {
        "id": "w0dHDokyvN6p"
      },
      "source": [
        "scaler = StandardScaler()\n",
        "scaler.fit(X)\n",
        "\n",
        "bank_note_data_normalized = scaler.transform(X)\n",
        "\n",
        "standardized_X = pd.DataFrame(data = X, index= X.index, columns= X.columns)"
      ],
      "execution_count": 21,
      "outputs": []
    },
    {
      "cell_type": "code",
      "metadata": {
        "colab": {
          "base_uri": "https://localhost:8080/",
          "height": 284
        },
        "id": "aOVc4evVHFKX",
        "outputId": "4d100ee3-6f4a-41c5-a33f-4ff4cb1a56ee"
      },
      "source": [
        "standardized_X.describe()"
      ],
      "execution_count": 22,
      "outputs": [
        {
          "output_type": "execute_result",
          "data": {
            "text/html": [
              "<div>\n",
              "<style scoped>\n",
              "    .dataframe tbody tr th:only-of-type {\n",
              "        vertical-align: middle;\n",
              "    }\n",
              "\n",
              "    .dataframe tbody tr th {\n",
              "        vertical-align: top;\n",
              "    }\n",
              "\n",
              "    .dataframe thead th {\n",
              "        text-align: right;\n",
              "    }\n",
              "</style>\n",
              "<table border=\"1\" class=\"dataframe\">\n",
              "  <thead>\n",
              "    <tr style=\"text-align: right;\">\n",
              "      <th></th>\n",
              "      <th>variance</th>\n",
              "      <th>skewness</th>\n",
              "      <th>curtosis</th>\n",
              "      <th>entropy</th>\n",
              "    </tr>\n",
              "  </thead>\n",
              "  <tbody>\n",
              "    <tr>\n",
              "      <th>count</th>\n",
              "      <td>1372.000000</td>\n",
              "      <td>1372.000000</td>\n",
              "      <td>1372.000000</td>\n",
              "      <td>1372.000000</td>\n",
              "    </tr>\n",
              "    <tr>\n",
              "      <th>mean</th>\n",
              "      <td>0.433735</td>\n",
              "      <td>1.922353</td>\n",
              "      <td>1.397627</td>\n",
              "      <td>-1.191657</td>\n",
              "    </tr>\n",
              "    <tr>\n",
              "      <th>std</th>\n",
              "      <td>2.842763</td>\n",
              "      <td>5.869047</td>\n",
              "      <td>4.310030</td>\n",
              "      <td>2.101013</td>\n",
              "    </tr>\n",
              "    <tr>\n",
              "      <th>min</th>\n",
              "      <td>-7.042100</td>\n",
              "      <td>-13.773100</td>\n",
              "      <td>-5.286100</td>\n",
              "      <td>-8.548200</td>\n",
              "    </tr>\n",
              "    <tr>\n",
              "      <th>25%</th>\n",
              "      <td>-1.773000</td>\n",
              "      <td>-1.708200</td>\n",
              "      <td>-1.574975</td>\n",
              "      <td>-2.413450</td>\n",
              "    </tr>\n",
              "    <tr>\n",
              "      <th>50%</th>\n",
              "      <td>0.496180</td>\n",
              "      <td>2.319650</td>\n",
              "      <td>0.616630</td>\n",
              "      <td>-0.586650</td>\n",
              "    </tr>\n",
              "    <tr>\n",
              "      <th>75%</th>\n",
              "      <td>2.821475</td>\n",
              "      <td>6.814625</td>\n",
              "      <td>3.179250</td>\n",
              "      <td>0.394810</td>\n",
              "    </tr>\n",
              "    <tr>\n",
              "      <th>max</th>\n",
              "      <td>6.824800</td>\n",
              "      <td>12.951600</td>\n",
              "      <td>17.927400</td>\n",
              "      <td>2.449500</td>\n",
              "    </tr>\n",
              "  </tbody>\n",
              "</table>\n",
              "</div>"
            ],
            "text/plain": [
              "          variance     skewness     curtosis      entropy\n",
              "count  1372.000000  1372.000000  1372.000000  1372.000000\n",
              "mean      0.433735     1.922353     1.397627    -1.191657\n",
              "std       2.842763     5.869047     4.310030     2.101013\n",
              "min      -7.042100   -13.773100    -5.286100    -8.548200\n",
              "25%      -1.773000    -1.708200    -1.574975    -2.413450\n",
              "50%       0.496180     2.319650     0.616630    -0.586650\n",
              "75%       2.821475     6.814625     3.179250     0.394810\n",
              "max       6.824800    12.951600    17.927400     2.449500"
            ]
          },
          "metadata": {
            "tags": []
          },
          "execution_count": 22
        }
      ]
    },
    {
      "cell_type": "code",
      "metadata": {
        "id": "SI6BJO-oHG5E"
      },
      "source": [
        "x_train_2, x_test_2, y_train_2, y_test_2 = train_test_split(standardized_X , y , test_size = 0.2, random_state = 42)"
      ],
      "execution_count": 23,
      "outputs": []
    },
    {
      "cell_type": "code",
      "metadata": {
        "colab": {
          "base_uri": "https://localhost:8080/"
        },
        "id": "9-uL4HJbHuy2",
        "outputId": "6a38084a-8c6c-4003-cc10-03048cd8b92f"
      },
      "source": [
        "x_train_2.shape , y_test_2.shape"
      ],
      "execution_count": 24,
      "outputs": [
        {
          "output_type": "execute_result",
          "data": {
            "text/plain": [
              "((1097, 4), (275,))"
            ]
          },
          "metadata": {
            "tags": []
          },
          "execution_count": 24
        }
      ]
    },
    {
      "cell_type": "code",
      "metadata": {
        "id": "iF1nhS7DHype"
      },
      "source": [
        "model_2 = tf.keras.models.Sequential([                    \n",
        "        tf.keras.layers.Dense(4,activation='relu'),\n",
        "        tf.keras.layers.Dense(1,activation='sigmoid')\n",
        "])"
      ],
      "execution_count": 25,
      "outputs": []
    },
    {
      "cell_type": "code",
      "metadata": {
        "id": "q80OBPvMH8b9"
      },
      "source": [
        "model_2.compile(optimizer = 'adam', \n",
        "                loss = tf.keras.losses.binary_crossentropy, \n",
        "                metrics = ['accuracy'])"
      ],
      "execution_count": 26,
      "outputs": []
    },
    {
      "cell_type": "code",
      "metadata": {
        "colab": {
          "base_uri": "https://localhost:8080/"
        },
        "id": "yjnP_u6mIAKi",
        "outputId": "d809bfeb-5d37-4b40-ef2d-0649474877b8"
      },
      "source": [
        "history_2 = model_2.fit(x_train_2 , y_train_2 , epochs = 20 , validation_data=(x_test_2, y_test_2))"
      ],
      "execution_count": 27,
      "outputs": [
        {
          "output_type": "stream",
          "text": [
            "Epoch 1/20\n",
            "35/35 [==============================] - 1s 8ms/step - loss: 1.0550 - accuracy: 0.5360 - val_loss: 1.0503 - val_accuracy: 0.5455\n",
            "Epoch 2/20\n",
            "35/35 [==============================] - 0s 2ms/step - loss: 0.9160 - accuracy: 0.5447 - val_loss: 0.9004 - val_accuracy: 0.5782\n",
            "Epoch 3/20\n",
            "35/35 [==============================] - 0s 3ms/step - loss: 0.8282 - accuracy: 0.5921 - val_loss: 0.7763 - val_accuracy: 0.6473\n",
            "Epoch 4/20\n",
            "35/35 [==============================] - 0s 3ms/step - loss: 0.7254 - accuracy: 0.6495 - val_loss: 0.6707 - val_accuracy: 0.6764\n",
            "Epoch 5/20\n",
            "35/35 [==============================] - 0s 3ms/step - loss: 0.6318 - accuracy: 0.6841 - val_loss: 0.5804 - val_accuracy: 0.7236\n",
            "Epoch 6/20\n",
            "35/35 [==============================] - 0s 3ms/step - loss: 0.5411 - accuracy: 0.7379 - val_loss: 0.5055 - val_accuracy: 0.7745\n",
            "Epoch 7/20\n",
            "35/35 [==============================] - 0s 3ms/step - loss: 0.4849 - accuracy: 0.7680 - val_loss: 0.4444 - val_accuracy: 0.8109\n",
            "Epoch 8/20\n",
            "35/35 [==============================] - 0s 3ms/step - loss: 0.4455 - accuracy: 0.7909 - val_loss: 0.4001 - val_accuracy: 0.8218\n",
            "Epoch 9/20\n",
            "35/35 [==============================] - 0s 3ms/step - loss: 0.3974 - accuracy: 0.8164 - val_loss: 0.3630 - val_accuracy: 0.8582\n",
            "Epoch 10/20\n",
            "35/35 [==============================] - 0s 3ms/step - loss: 0.3733 - accuracy: 0.8469 - val_loss: 0.3344 - val_accuracy: 0.8691\n",
            "Epoch 11/20\n",
            "35/35 [==============================] - 0s 3ms/step - loss: 0.3577 - accuracy: 0.8508 - val_loss: 0.3110 - val_accuracy: 0.8945\n",
            "Epoch 12/20\n",
            "35/35 [==============================] - 0s 3ms/step - loss: 0.3314 - accuracy: 0.8613 - val_loss: 0.2923 - val_accuracy: 0.9091\n",
            "Epoch 13/20\n",
            "35/35 [==============================] - 0s 3ms/step - loss: 0.3189 - accuracy: 0.8794 - val_loss: 0.2774 - val_accuracy: 0.9091\n",
            "Epoch 14/20\n",
            "35/35 [==============================] - 0s 2ms/step - loss: 0.3008 - accuracy: 0.8776 - val_loss: 0.2635 - val_accuracy: 0.9091\n",
            "Epoch 15/20\n",
            "35/35 [==============================] - 0s 3ms/step - loss: 0.2895 - accuracy: 0.8842 - val_loss: 0.2526 - val_accuracy: 0.9164\n",
            "Epoch 16/20\n",
            "35/35 [==============================] - 0s 2ms/step - loss: 0.2705 - accuracy: 0.8951 - val_loss: 0.2416 - val_accuracy: 0.9200\n",
            "Epoch 17/20\n",
            "35/35 [==============================] - 0s 3ms/step - loss: 0.2673 - accuracy: 0.9030 - val_loss: 0.2324 - val_accuracy: 0.9273\n",
            "Epoch 18/20\n",
            "35/35 [==============================] - 0s 3ms/step - loss: 0.2745 - accuracy: 0.8944 - val_loss: 0.2237 - val_accuracy: 0.9309\n",
            "Epoch 19/20\n",
            "35/35 [==============================] - 0s 3ms/step - loss: 0.2523 - accuracy: 0.8942 - val_loss: 0.2157 - val_accuracy: 0.9309\n",
            "Epoch 20/20\n",
            "35/35 [==============================] - 0s 3ms/step - loss: 0.2363 - accuracy: 0.9112 - val_loss: 0.2084 - val_accuracy: 0.9345\n"
          ],
          "name": "stdout"
        }
      ]
    },
    {
      "cell_type": "code",
      "metadata": {
        "colab": {
          "base_uri": "https://localhost:8080/",
          "height": 295
        },
        "id": "9wUfH2SHIF6m",
        "outputId": "19818e8b-5089-4d2f-fb6b-46555d7b41b0"
      },
      "source": [
        "loss_train = history_2.history['loss']\n",
        "loss_val = history_2.history['val_loss']\n",
        "\n",
        "acc_train = history_2.history['accuracy']\n",
        "acc_val = history_2.history['val_accuracy']\n",
        "\n",
        "\n",
        "epochs = range(0,20)\n",
        "\n",
        "plt.plot(epochs, loss_train, 'g', label='Training loss')\n",
        "plt.plot(epochs, loss_val, 'b', label='Validation loss')\n",
        "\n",
        "\n",
        "plt.plot(epochs, acc_train, 'red', label='Training accuracy')\n",
        "plt.plot(epochs, acc_val, 'black', label='Validation accuracy')\n",
        "\n",
        "\n",
        "plt.title('Training and Validation loss')\n",
        "plt.xlabel('Epochs')\n",
        "plt.ylabel('Loss')\n",
        "plt.legend()\n",
        "\n",
        "plt.show()"
      ],
      "execution_count": 57,
      "outputs": [
        {
          "output_type": "display_data",
          "data": {
            "image/png": "[encoded data removed]",
            "text/plain": [
              "<Figure size 432x288 with 1 Axes>"
            ]
          },
          "metadata": {
            "tags": [],
            "needs_background": "light"
          }
        }
      ]
    },
    {
      "cell_type": "code",
      "metadata": {
        "colab": {
          "base_uri": "https://localhost:8080/"
        },
        "id": "75Hg9NReTm2E",
        "outputId": "620c9ecb-898d-46ac-cc35-ee2dfb8c25cf"
      },
      "source": [
        "yhat_probs = model_2.predict(x_test_2, verbose=0)\n",
        "\n",
        "yhat_classes = model_2.predict_classes(x_test_2, verbose=0)\n",
        "\n",
        "yhat_classes = yhat_classes[:, 0]\n",
        " \n",
        "accuracy_2 = accuracy_score(y_test_2, yhat_classes)\n",
        "print('Accuracy: %f' % accuracy_2)\n",
        "\n",
        "precision_2 = precision_score(y_test_2, yhat_classes)\n",
        "print('Precision: %f' % precision_2)\n",
        "\n",
        "recall_2 = recall_score(y_test_2, yhat_classes)\n",
        "print('Recall: %f' % recall_2)\n",
        "\n",
        "f1_2 = f1_score(y_test_2, yhat_classes)\n",
        "print('F1 score: %f' % f1_2)"
      ],
      "execution_count": 30,
      "outputs": [
        {
          "output_type": "stream",
          "text": [
            "Accuracy: 0.934545\n",
            "Precision: 0.881119\n",
            "Recall: 0.992126\n",
            "F1 score: 0.933333\n"
          ],
          "name": "stdout"
        },
        {
          "output_type": "stream",
          "text": [
            "/usr/local/lib/python3.7/dist-packages/tensorflow/python/keras/engine/sequential.py:450: UserWarning: `model.predict_classes()` is deprecated and will be removed after 2021-01-01. Please use instead:* `np.argmax(model.predict(x), axis=-1)`,   if your model does multi-class classification   (e.g. if it uses a `softmax` last-layer activation).* `(model.predict(x) > 0.5).astype(\"int32\")`,   if your model does binary classification   (e.g. if it uses a `sigmoid` last-layer activation).\n",
            "  warnings.warn('`model.predict_classes()` is deprecated and '\n"
          ],
          "name": "stderr"
        }
      ]
    },
    {
      "cell_type": "markdown",
      "metadata": {
        "id": "9eMY_La8IyW1"
      },
      "source": [
        ""
      ]
    },
    {
      "cell_type": "markdown",
      "metadata": {
        "id": "YaVYZBq7JH3u"
      },
      "source": [
        "### 2) **Using softmax**"
      ]
    },
    {
      "cell_type": "code",
      "metadata": {
        "colab": {
          "base_uri": "https://localhost:8080/"
        },
        "id": "KNggpPFjL_LZ",
        "outputId": "535aad12-5415-4e5d-c9a7-95593c229a79"
      },
      "source": [
        "data = array(y)\n",
        "\n",
        "encoded_y = to_categorical(data)\n",
        "print(encoded_y)"
      ],
      "execution_count": 31,
      "outputs": [
        {
          "output_type": "stream",
          "text": [
            "[[1. 0.]\n",
            " [1. 0.]\n",
            " [1. 0.]\n",
            " ...\n",
            " [0. 1.]\n",
            " [0. 1.]\n",
            " [0. 1.]]\n"
          ],
          "name": "stdout"
        }
      ]
    },
    {
      "cell_type": "code",
      "metadata": {
        "id": "DY9pabx1JHA7"
      },
      "source": [
        "x_train_3, x_test_3, y_train_3, y_test_3 = train_test_split(standardized_X , encoded_y , test_size=0.2 , random_state = 42)"
      ],
      "execution_count": 32,
      "outputs": []
    },
    {
      "cell_type": "code",
      "metadata": {
        "colab": {
          "base_uri": "https://localhost:8080/"
        },
        "id": "bpK45fsXJxHi",
        "outputId": "1ccea1f9-cd86-4c86-cb14-2acd21e12399"
      },
      "source": [
        "x_train_3.shape , y_test_3.shape"
      ],
      "execution_count": 33,
      "outputs": [
        {
          "output_type": "execute_result",
          "data": {
            "text/plain": [
              "((1097, 4), (275, 2))"
            ]
          },
          "metadata": {
            "tags": []
          },
          "execution_count": 33
        }
      ]
    },
    {
      "cell_type": "code",
      "metadata": {
        "id": "BMJfUEUAJ2qj"
      },
      "source": [
        "model_3 = tf.keras.models.Sequential([                    \n",
        "        tf.keras.layers.Dense(4 , activation = 'relu'),\n",
        "        tf.keras.layers.Dense(2 , activation = 'softmax')\n",
        "])"
      ],
      "execution_count": 34,
      "outputs": []
    },
    {
      "cell_type": "code",
      "metadata": {
        "id": "d9jf1KqlJ-8_"
      },
      "source": [
        "model_3.compile(optimizer = 'adam',\n",
        "                loss = tf.keras.losses.categorical_crossentropy,\n",
        "                metrics = ['accuracy'])"
      ],
      "execution_count": 35,
      "outputs": []
    },
    {
      "cell_type": "code",
      "metadata": {
        "colab": {
          "base_uri": "https://localhost:8080/"
        },
        "id": "9ClTEuJdKBqT",
        "outputId": "04f54721-c9b8-40bb-fd23-32a814476f11"
      },
      "source": [
        "history_3 = model_3.fit(x_train_3 , y_train_3 , epochs=20 , validation_data = (x_test_3, y_test_3))"
      ],
      "execution_count": 36,
      "outputs": [
        {
          "output_type": "stream",
          "text": [
            "Epoch 1/20\n",
            "35/35 [==============================] - 1s 7ms/step - loss: 1.8102 - accuracy: 0.5605 - val_loss: 1.2867 - val_accuracy: 0.7273\n",
            "Epoch 2/20\n",
            "35/35 [==============================] - 0s 2ms/step - loss: 1.4037 - accuracy: 0.6738 - val_loss: 0.9459 - val_accuracy: 0.7455\n",
            "Epoch 3/20\n",
            "35/35 [==============================] - 0s 2ms/step - loss: 0.9080 - accuracy: 0.7302 - val_loss: 0.6253 - val_accuracy: 0.7673\n",
            "Epoch 4/20\n",
            "35/35 [==============================] - 0s 3ms/step - loss: 0.5771 - accuracy: 0.7933 - val_loss: 0.5023 - val_accuracy: 0.8691\n",
            "Epoch 5/20\n",
            "35/35 [==============================] - 0s 3ms/step - loss: 0.4843 - accuracy: 0.8738 - val_loss: 0.4699 - val_accuracy: 0.8727\n",
            "Epoch 6/20\n",
            "35/35 [==============================] - 0s 3ms/step - loss: 0.4418 - accuracy: 0.9139 - val_loss: 0.4473 - val_accuracy: 0.8800\n",
            "Epoch 7/20\n",
            "35/35 [==============================] - 0s 3ms/step - loss: 0.4252 - accuracy: 0.9019 - val_loss: 0.4281 - val_accuracy: 0.8800\n",
            "Epoch 8/20\n",
            "35/35 [==============================] - 0s 3ms/step - loss: 0.3950 - accuracy: 0.9114 - val_loss: 0.4115 - val_accuracy: 0.8836\n",
            "Epoch 9/20\n",
            "35/35 [==============================] - 0s 3ms/step - loss: 0.3750 - accuracy: 0.9226 - val_loss: 0.3968 - val_accuracy: 0.8909\n",
            "Epoch 10/20\n",
            "35/35 [==============================] - 0s 3ms/step - loss: 0.3601 - accuracy: 0.9157 - val_loss: 0.3834 - val_accuracy: 0.8982\n",
            "Epoch 11/20\n",
            "35/35 [==============================] - 0s 2ms/step - loss: 0.3495 - accuracy: 0.9190 - val_loss: 0.3714 - val_accuracy: 0.9018\n",
            "Epoch 12/20\n",
            "35/35 [==============================] - 0s 3ms/step - loss: 0.3364 - accuracy: 0.9304 - val_loss: 0.3602 - val_accuracy: 0.9018\n",
            "Epoch 13/20\n",
            "35/35 [==============================] - 0s 2ms/step - loss: 0.3261 - accuracy: 0.9200 - val_loss: 0.3498 - val_accuracy: 0.9018\n",
            "Epoch 14/20\n",
            "35/35 [==============================] - 0s 2ms/step - loss: 0.3121 - accuracy: 0.9226 - val_loss: 0.3398 - val_accuracy: 0.9018\n",
            "Epoch 15/20\n",
            "35/35 [==============================] - 0s 3ms/step - loss: 0.2971 - accuracy: 0.9377 - val_loss: 0.3305 - val_accuracy: 0.9018\n",
            "Epoch 16/20\n",
            "35/35 [==============================] - 0s 3ms/step - loss: 0.2885 - accuracy: 0.9394 - val_loss: 0.3217 - val_accuracy: 0.9018\n",
            "Epoch 17/20\n",
            "35/35 [==============================] - 0s 3ms/step - loss: 0.2787 - accuracy: 0.9360 - val_loss: 0.3135 - val_accuracy: 0.9018\n",
            "Epoch 18/20\n",
            "35/35 [==============================] - 0s 3ms/step - loss: 0.2748 - accuracy: 0.9367 - val_loss: 0.3054 - val_accuracy: 0.9018\n",
            "Epoch 19/20\n",
            "35/35 [==============================] - 0s 2ms/step - loss: 0.2638 - accuracy: 0.9404 - val_loss: 0.2974 - val_accuracy: 0.9018\n",
            "Epoch 20/20\n",
            "35/35 [==============================] - 0s 3ms/step - loss: 0.2492 - accuracy: 0.9527 - val_loss: 0.2898 - val_accuracy: 0.9055\n"
          ],
          "name": "stdout"
        }
      ]
    },
    {
      "cell_type": "code",
      "metadata": {
        "colab": {
          "base_uri": "https://localhost:8080/",
          "height": 295
        },
        "id": "FlKECNZFKI_I",
        "outputId": "a094c6e6-c52a-41e7-9518-08a031652161"
      },
      "source": [
        "loss_train = history_3.history['loss']\n",
        "loss_val = history_3.history['val_loss']\n",
        "\n",
        "acc_train = history_3.history['accuracy']\n",
        "acc_val = history_3.history['val_accuracy']\n",
        "\n",
        "\n",
        "epochs = range(0,20)\n",
        "\n",
        "plt.plot(epochs, loss_train, 'g', label='Training loss')\n",
        "plt.plot(epochs, loss_val, 'b', label='Validation loss')\n",
        "\n",
        "\n",
        "plt.plot(epochs, acc_train, 'red', label='Training accuracy')\n",
        "plt.plot(epochs, acc_val, 'black', label='Validation accuracy')\n",
        "\n",
        "\n",
        "plt.title('Training and Validation loss')\n",
        "plt.xlabel('Epochs')\n",
        "plt.ylabel('Loss')\n",
        "plt.legend()\n",
        "\n",
        "plt.show()"
      ],
      "execution_count": 58,
      "outputs": [
        {
          "output_type": "display_data",
          "data": {
            "image/png": "[encoded data removed]",
            "text/plain": [
              "<Figure size 432x288 with 1 Axes>"
            ]
          },
          "metadata": {
            "tags": [],
            "needs_background": "light"
          }
        }
      ]
    },
    {
      "cell_type": "code",
      "metadata": {
        "colab": {
          "base_uri": "https://localhost:8080/"
        },
        "id": "xajcnQoaMVzc",
        "outputId": "b4f2a97a-69d8-43b5-d9b6-0a873eb66d68"
      },
      "source": [
        "y_test_classes_3 = np.argmax(y_test_3, axis = 1)\n",
        "\n",
        "yhat_classes_3 = model_3.predict_classes(x_test_3, verbose = 0)\n",
        "yhat_classes_3 =  np.reshape(yhat_classes_3, (-1, 1))\n",
        "\n",
        "yhat_classes_3 = yhat_classes_3[:, 0]\n",
        " \n",
        "\n",
        "accuracy_3 = accuracy_score(y_test_classes_3, yhat_classes_3)\n",
        "print('Accuracy: %f' % accuracy_3)\n",
        "\n",
        "precision_3 = precision_score(y_test_classes_3, yhat_classes_3)\n",
        "print('Precision: %f' % precision_3)\n",
        "\n",
        "recall_3 = recall_score(y_test_classes_3, yhat_classes_3)\n",
        "print('Recall: %f' % recall_3)\n",
        "\n",
        "f1_3 = f1_score(y_test_classes_3, yhat_classes_3)\n",
        "print('F1 score: %f' % f1_3)"
      ],
      "execution_count": 39,
      "outputs": [
        {
          "output_type": "stream",
          "text": [
            "Accuracy: 0.905455\n",
            "Precision: 0.963303\n",
            "Recall: 0.826772\n",
            "F1 score: 0.889831\n"
          ],
          "name": "stdout"
        },
        {
          "output_type": "stream",
          "text": [
            "/usr/local/lib/python3.7/dist-packages/tensorflow/python/keras/engine/sequential.py:450: UserWarning: `model.predict_classes()` is deprecated and will be removed after 2021-01-01. Please use instead:* `np.argmax(model.predict(x), axis=-1)`,   if your model does multi-class classification   (e.g. if it uses a `softmax` last-layer activation).* `(model.predict(x) > 0.5).astype(\"int32\")`,   if your model does binary classification   (e.g. if it uses a `sigmoid` last-layer activation).\n",
            "  warnings.warn('`model.predict_classes()` is deprecated and '\n"
          ],
          "name": "stderr"
        }
      ]
    },
    {
      "cell_type": "markdown",
      "metadata": {
        "id": "j2mCfPLmQKfd"
      },
      "source": [
        "## Using RMSProp as the optimizer"
      ]
    },
    {
      "cell_type": "code",
      "metadata": {
        "id": "mCAy9NSWNdj1"
      },
      "source": [
        "x_train_4, x_test_4, y_train_4, y_test_4 = train_test_split(standardized_X, encoded_y, test_size = 0.2, random_state = 42)"
      ],
      "execution_count": 40,
      "outputs": []
    },
    {
      "cell_type": "code",
      "metadata": {
        "id": "BTGbOulSQCO2"
      },
      "source": [
        "model_4 = tf.keras.models.Sequential([                    \n",
        "        tf.keras.layers.Dense(4,activation = 'relu'),\n",
        "        tf.keras.layers.Dense(2,activation = 'softmax')\n",
        "])"
      ],
      "execution_count": 41,
      "outputs": []
    },
    {
      "cell_type": "code",
      "metadata": {
        "id": "w2IkyrSwQU7C"
      },
      "source": [
        "model_4.compile(optimizer = 'rmsprop', \n",
        "                loss = tf.keras.losses.categorical_crossentropy, \n",
        "                metrics = ['accuracy'])"
      ],
      "execution_count": 42,
      "outputs": []
    },
    {
      "cell_type": "code",
      "metadata": {
        "colab": {
          "base_uri": "https://localhost:8080/"
        },
        "id": "mYGd80zrQoSi",
        "outputId": "1db7ea12-4b44-454d-8016-a7f5b9a24d05"
      },
      "source": [
        "history_4 = model_4.fit(x_train_4 ,  y_train_4 , epochs = 20 , validation_data = (x_test_4, y_test_4))"
      ],
      "execution_count": 43,
      "outputs": [
        {
          "output_type": "stream",
          "text": [
            "Epoch 1/20\n",
            "35/35 [==============================] - 1s 7ms/step - loss: 0.7701 - accuracy: 0.4832 - val_loss: 0.6938 - val_accuracy: 0.5600\n",
            "Epoch 2/20\n",
            "35/35 [==============================] - 0s 3ms/step - loss: 0.6573 - accuracy: 0.5942 - val_loss: 0.6421 - val_accuracy: 0.6036\n",
            "Epoch 3/20\n",
            "35/35 [==============================] - 0s 3ms/step - loss: 0.6111 - accuracy: 0.6290 - val_loss: 0.5971 - val_accuracy: 0.6545\n",
            "Epoch 4/20\n",
            "35/35 [==============================] - 0s 3ms/step - loss: 0.5747 - accuracy: 0.6664 - val_loss: 0.5546 - val_accuracy: 0.7018\n",
            "Epoch 5/20\n",
            "35/35 [==============================] - 0s 3ms/step - loss: 0.5337 - accuracy: 0.7149 - val_loss: 0.5159 - val_accuracy: 0.7200\n",
            "Epoch 6/20\n",
            "35/35 [==============================] - 0s 3ms/step - loss: 0.4657 - accuracy: 0.7958 - val_loss: 0.4706 - val_accuracy: 0.7673\n",
            "Epoch 7/20\n",
            "35/35 [==============================] - 0s 3ms/step - loss: 0.4499 - accuracy: 0.8185 - val_loss: 0.4326 - val_accuracy: 0.7818\n",
            "Epoch 8/20\n",
            "35/35 [==============================] - 0s 3ms/step - loss: 0.4016 - accuracy: 0.8480 - val_loss: 0.3911 - val_accuracy: 0.8145\n",
            "Epoch 9/20\n",
            "35/35 [==============================] - 0s 3ms/step - loss: 0.3720 - accuracy: 0.8565 - val_loss: 0.3563 - val_accuracy: 0.8364\n",
            "Epoch 10/20\n",
            "35/35 [==============================] - 0s 3ms/step - loss: 0.3447 - accuracy: 0.8784 - val_loss: 0.3206 - val_accuracy: 0.8945\n",
            "Epoch 11/20\n",
            "35/35 [==============================] - 0s 3ms/step - loss: 0.3064 - accuracy: 0.9045 - val_loss: 0.2851 - val_accuracy: 0.9127\n",
            "Epoch 12/20\n",
            "35/35 [==============================] - 0s 3ms/step - loss: 0.2774 - accuracy: 0.9223 - val_loss: 0.2557 - val_accuracy: 0.9345\n",
            "Epoch 13/20\n",
            "35/35 [==============================] - 0s 3ms/step - loss: 0.2447 - accuracy: 0.9413 - val_loss: 0.2283 - val_accuracy: 0.9491\n",
            "Epoch 14/20\n",
            "35/35 [==============================] - 0s 3ms/step - loss: 0.2242 - accuracy: 0.9538 - val_loss: 0.2033 - val_accuracy: 0.9636\n",
            "Epoch 15/20\n",
            "35/35 [==============================] - 0s 3ms/step - loss: 0.1928 - accuracy: 0.9686 - val_loss: 0.1803 - val_accuracy: 0.9745\n",
            "Epoch 16/20\n",
            "35/35 [==============================] - 0s 3ms/step - loss: 0.1696 - accuracy: 0.9704 - val_loss: 0.1612 - val_accuracy: 0.9745\n",
            "Epoch 17/20\n",
            "35/35 [==============================] - 0s 3ms/step - loss: 0.1607 - accuracy: 0.9689 - val_loss: 0.1443 - val_accuracy: 0.9745\n",
            "Epoch 18/20\n",
            "35/35 [==============================] - 0s 3ms/step - loss: 0.1374 - accuracy: 0.9768 - val_loss: 0.1283 - val_accuracy: 0.9818\n",
            "Epoch 19/20\n",
            "35/35 [==============================] - 0s 3ms/step - loss: 0.1201 - accuracy: 0.9804 - val_loss: 0.1138 - val_accuracy: 0.9818\n",
            "Epoch 20/20\n",
            "35/35 [==============================] - 0s 3ms/step - loss: 0.1048 - accuracy: 0.9869 - val_loss: 0.1012 - val_accuracy: 0.9818\n"
          ],
          "name": "stdout"
        }
      ]
    },
    {
      "cell_type": "code",
      "metadata": {
        "colab": {
          "base_uri": "https://localhost:8080/",
          "height": 295
        },
        "id": "WDTrmy9-QudD",
        "outputId": "26c5a14d-0777-46fb-85a9-73f4922cf2d6"
      },
      "source": [
        "loss_train = history_4.history['loss']\n",
        "loss_val = history_4.history['val_loss']\n",
        "\n",
        "acc_train = history_4.history['accuracy']\n",
        "acc_val = history_4.history['val_accuracy']\n",
        "\n",
        "\n",
        "epochs = range(0,20)\n",
        "\n",
        "plt.plot(epochs, loss_train, 'g', label='Training loss')\n",
        "plt.plot(epochs, loss_val, 'b', label='Validation loss')\n",
        "\n",
        "\n",
        "plt.plot(epochs, acc_train, 'red', label='Training accuracy')\n",
        "plt.plot(epochs, acc_val, 'black', label='Validation accuracy')\n",
        "\n",
        "\n",
        "plt.title('Training and Validation loss')\n",
        "plt.xlabel('Epochs')\n",
        "plt.ylabel('Loss')\n",
        "plt.legend()\n",
        "\n",
        "plt.show()"
      ],
      "execution_count": 59,
      "outputs": [
        {
          "output_type": "display_data",
          "data": {
            "image/png": "[encoded data removed]",
            "text/plain": [
              "<Figure size 432x288 with 1 Axes>"
            ]
          },
          "metadata": {
            "tags": [],
            "needs_background": "light"
          }
        }
      ]
    },
    {
      "cell_type": "code",
      "metadata": {
        "colab": {
          "base_uri": "https://localhost:8080/",
          "height": 402
        },
        "id": "a8ywYL-9Yeju",
        "outputId": "d8de8493-6794-4a75-d594-70c2e1ffc9e6"
      },
      "source": [
        "x_test_4"
      ],
      "execution_count": 46,
      "outputs": [
        {
          "output_type": "execute_result",
          "data": {
            "text/html": [
              "<div>\n",
              "<style scoped>\n",
              "    .dataframe tbody tr th:only-of-type {\n",
              "        vertical-align: middle;\n",
              "    }\n",
              "\n",
              "    .dataframe tbody tr th {\n",
              "        vertical-align: top;\n",
              "    }\n",
              "\n",
              "    .dataframe thead th {\n",
              "        text-align: right;\n",
              "    }\n",
              "</style>\n",
              "<table border=\"1\" class=\"dataframe\">\n",
              "  <thead>\n",
              "    <tr style=\"text-align: right;\">\n",
              "      <th></th>\n",
              "      <th>variance</th>\n",
              "      <th>skewness</th>\n",
              "      <th>curtosis</th>\n",
              "      <th>entropy</th>\n",
              "    </tr>\n",
              "  </thead>\n",
              "  <tbody>\n",
              "    <tr>\n",
              "      <th>430</th>\n",
              "      <td>1.569100</td>\n",
              "      <td>6.346500</td>\n",
              "      <td>-0.1828</td>\n",
              "      <td>-2.40990</td>\n",
              "    </tr>\n",
              "    <tr>\n",
              "      <th>588</th>\n",
              "      <td>-0.278020</td>\n",
              "      <td>8.188100</td>\n",
              "      <td>-3.1338</td>\n",
              "      <td>-2.52760</td>\n",
              "    </tr>\n",
              "    <tr>\n",
              "      <th>296</th>\n",
              "      <td>0.051979</td>\n",
              "      <td>7.052100</td>\n",
              "      <td>-2.0541</td>\n",
              "      <td>-3.15080</td>\n",
              "    </tr>\n",
              "    <tr>\n",
              "      <th>184</th>\n",
              "      <td>-1.755900</td>\n",
              "      <td>11.945900</td>\n",
              "      <td>3.0946</td>\n",
              "      <td>-4.89780</td>\n",
              "    </tr>\n",
              "    <tr>\n",
              "      <th>244</th>\n",
              "      <td>2.428700</td>\n",
              "      <td>9.382100</td>\n",
              "      <td>-3.2477</td>\n",
              "      <td>-1.45430</td>\n",
              "    </tr>\n",
              "    <tr>\n",
              "      <th>...</th>\n",
              "      <td>...</td>\n",
              "      <td>...</td>\n",
              "      <td>...</td>\n",
              "      <td>...</td>\n",
              "    </tr>\n",
              "    <tr>\n",
              "      <th>1341</th>\n",
              "      <td>-2.262500</td>\n",
              "      <td>-0.099335</td>\n",
              "      <td>2.8127</td>\n",
              "      <td>0.48662</td>\n",
              "    </tr>\n",
              "    <tr>\n",
              "      <th>1100</th>\n",
              "      <td>1.437800</td>\n",
              "      <td>0.668370</td>\n",
              "      <td>-2.0267</td>\n",
              "      <td>1.02710</td>\n",
              "    </tr>\n",
              "    <tr>\n",
              "      <th>620</th>\n",
              "      <td>3.462600</td>\n",
              "      <td>-4.449000</td>\n",
              "      <td>3.5427</td>\n",
              "      <td>0.15429</td>\n",
              "    </tr>\n",
              "    <tr>\n",
              "      <th>617</th>\n",
              "      <td>-0.278000</td>\n",
              "      <td>8.188100</td>\n",
              "      <td>-3.1338</td>\n",
              "      <td>-2.52760</td>\n",
              "    </tr>\n",
              "    <tr>\n",
              "      <th>602</th>\n",
              "      <td>2.783100</td>\n",
              "      <td>10.979600</td>\n",
              "      <td>-3.5570</td>\n",
              "      <td>-4.40390</td>\n",
              "    </tr>\n",
              "  </tbody>\n",
              "</table>\n",
              "<p>275 rows × 4 columns</p>\n",
              "</div>"
            ],
            "text/plain": [
              "      variance   skewness  curtosis  entropy\n",
              "430   1.569100   6.346500   -0.1828 -2.40990\n",
              "588  -0.278020   8.188100   -3.1338 -2.52760\n",
              "296   0.051979   7.052100   -2.0541 -3.15080\n",
              "184  -1.755900  11.945900    3.0946 -4.89780\n",
              "244   2.428700   9.382100   -3.2477 -1.45430\n",
              "...        ...        ...       ...      ...\n",
              "1341 -2.262500  -0.099335    2.8127  0.48662\n",
              "1100  1.437800   0.668370   -2.0267  1.02710\n",
              "620   3.462600  -4.449000    3.5427  0.15429\n",
              "617  -0.278000   8.188100   -3.1338 -2.52760\n",
              "602   2.783100  10.979600   -3.5570 -4.40390\n",
              "\n",
              "[275 rows x 4 columns]"
            ]
          },
          "metadata": {
            "tags": []
          },
          "execution_count": 46
        }
      ]
    },
    {
      "cell_type": "code",
      "metadata": {
        "colab": {
          "base_uri": "https://localhost:8080/"
        },
        "id": "S3BnKdb3Q1fU",
        "outputId": "7dcdede6-6346-494b-c669-0d8126adcbec"
      },
      "source": [
        "y_test_classes_4 = np.argmax(y_test_4, axis=1)\n",
        "\n",
        "yhat_classes_4 = model_4.predict_classes(x_test_4, verbose = 0)\n",
        "yhat_classes_4 =  np.reshape(yhat_classes_4, (-1, 1))\n",
        "\n",
        "yhat_classes_4 = yhat_classes_4[:, 0]\n",
        " \n",
        "\n",
        "accuracy_4 = accuracy_score(y_test_classes_4, yhat_classes_4)\n",
        "print('Accuracy: %f' % accuracy_4)\n",
        "\n",
        "precision_4 = precision_score(y_test_classes_4, yhat_classes_4)\n",
        "print('Precision: %f' % precision_4)\n",
        "\n",
        "recall_4 = recall_score(y_test_classes_4, yhat_classes_4)\n",
        "print('Recall: %f' % recall_4)\n",
        "\n",
        "f1_4 = f1_score(y_test_classes_4, yhat_classes_4)\n",
        "print('F1 score: %f' % f1_4)"
      ],
      "execution_count": 47,
      "outputs": [
        {
          "output_type": "stream",
          "text": [
            "Accuracy: 0.981818\n",
            "Precision: 0.969231\n",
            "Recall: 0.992126\n",
            "F1 score: 0.980545\n"
          ],
          "name": "stdout"
        },
        {
          "output_type": "stream",
          "text": [
            "/usr/local/lib/python3.7/dist-packages/tensorflow/python/keras/engine/sequential.py:450: UserWarning: `model.predict_classes()` is deprecated and will be removed after 2021-01-01. Please use instead:* `np.argmax(model.predict(x), axis=-1)`,   if your model does multi-class classification   (e.g. if it uses a `softmax` last-layer activation).* `(model.predict(x) > 0.5).astype(\"int32\")`,   if your model does binary classification   (e.g. if it uses a `sigmoid` last-layer activation).\n",
            "  warnings.warn('`model.predict_classes()` is deprecated and '\n"
          ],
          "name": "stderr"
        }
      ]
    },
    {
      "cell_type": "markdown",
      "metadata": {
        "id": "43XZfolUVvtg"
      },
      "source": [
        "### Using SGD as Optimizer"
      ]
    },
    {
      "cell_type": "code",
      "metadata": {
        "id": "zWqANJRuVznO"
      },
      "source": [
        "x_train_5, x_test_5, y_train_5, y_test_5 = train_test_split(standardized_X, encoded_y, test_size = 0.2, random_state = 42)"
      ],
      "execution_count": 48,
      "outputs": []
    },
    {
      "cell_type": "code",
      "metadata": {
        "id": "k1pPp8cgV2_2"
      },
      "source": [
        "model_5 = tf.keras.models.Sequential([                    \n",
        "        tf.keras.layers.Dense(4,activation = 'relu'),\n",
        "        tf.keras.layers.Dense(2,activation = 'softmax')\n",
        "])"
      ],
      "execution_count": 49,
      "outputs": []
    },
    {
      "cell_type": "code",
      "metadata": {
        "id": "ywPZO1U2V21h"
      },
      "source": [
        "model_5.compile(optimizer = 'SGD', \n",
        "                loss = tf.keras.losses.categorical_crossentropy,\n",
        "                metrics = ['accuracy'])"
      ],
      "execution_count": 50,
      "outputs": []
    },
    {
      "cell_type": "code",
      "metadata": {
        "colab": {
          "base_uri": "https://localhost:8080/"
        },
        "id": "tmUE4IH3V2y-",
        "outputId": "d158ac35-2309-4516-eb2e-73f01b5125a1"
      },
      "source": [
        "history_5 = model_5.fit(x_train_5 , y_train_5, epochs = 20 , validation_data = (x_test_5, y_test_5))"
      ],
      "execution_count": 51,
      "outputs": [
        {
          "output_type": "stream",
          "text": [
            "Epoch 1/20\n",
            "35/35 [==============================] - 1s 8ms/step - loss: 2.1382 - accuracy: 0.2531 - val_loss: 1.1218 - val_accuracy: 0.4582\n",
            "Epoch 2/20\n",
            "35/35 [==============================] - 0s 3ms/step - loss: 0.9745 - accuracy: 0.4766 - val_loss: 0.7199 - val_accuracy: 0.6109\n",
            "Epoch 3/20\n",
            "35/35 [==============================] - 0s 2ms/step - loss: 0.6662 - accuracy: 0.6181 - val_loss: 0.5345 - val_accuracy: 0.7491\n",
            "Epoch 4/20\n",
            "35/35 [==============================] - 0s 3ms/step - loss: 0.4816 - accuracy: 0.7741 - val_loss: 0.3923 - val_accuracy: 0.9345\n",
            "Epoch 5/20\n",
            "35/35 [==============================] - 0s 2ms/step - loss: 0.3626 - accuracy: 0.9501 - val_loss: 0.2918 - val_accuracy: 0.9855\n",
            "Epoch 6/20\n",
            "35/35 [==============================] - 0s 3ms/step - loss: 0.2761 - accuracy: 0.9756 - val_loss: 0.2184 - val_accuracy: 0.9891\n",
            "Epoch 7/20\n",
            "35/35 [==============================] - 0s 2ms/step - loss: 0.2040 - accuracy: 0.9835 - val_loss: 0.1725 - val_accuracy: 0.9927\n",
            "Epoch 8/20\n",
            "35/35 [==============================] - 0s 3ms/step - loss: 0.1594 - accuracy: 0.9870 - val_loss: 0.1437 - val_accuracy: 0.9927\n",
            "Epoch 9/20\n",
            "35/35 [==============================] - 0s 3ms/step - loss: 0.1396 - accuracy: 0.9829 - val_loss: 0.1245 - val_accuracy: 0.9927\n",
            "Epoch 10/20\n",
            "35/35 [==============================] - 0s 2ms/step - loss: 0.1221 - accuracy: 0.9900 - val_loss: 0.1109 - val_accuracy: 0.9927\n",
            "Epoch 11/20\n",
            "35/35 [==============================] - 0s 3ms/step - loss: 0.1065 - accuracy: 0.9945 - val_loss: 0.1008 - val_accuracy: 0.9927\n",
            "Epoch 12/20\n",
            "35/35 [==============================] - 0s 3ms/step - loss: 0.0934 - accuracy: 0.9921 - val_loss: 0.0923 - val_accuracy: 0.9927\n",
            "Epoch 13/20\n",
            "35/35 [==============================] - 0s 2ms/step - loss: 0.0871 - accuracy: 0.9961 - val_loss: 0.0853 - val_accuracy: 0.9927\n",
            "Epoch 14/20\n",
            "35/35 [==============================] - 0s 2ms/step - loss: 0.0823 - accuracy: 0.9962 - val_loss: 0.0801 - val_accuracy: 0.9964\n",
            "Epoch 15/20\n",
            "35/35 [==============================] - 0s 3ms/step - loss: 0.0782 - accuracy: 0.9933 - val_loss: 0.0757 - val_accuracy: 0.9964\n",
            "Epoch 16/20\n",
            "35/35 [==============================] - 0s 2ms/step - loss: 0.0708 - accuracy: 0.9962 - val_loss: 0.0709 - val_accuracy: 0.9964\n",
            "Epoch 17/20\n",
            "35/35 [==============================] - 0s 2ms/step - loss: 0.0723 - accuracy: 0.9986 - val_loss: 0.0672 - val_accuracy: 0.9964\n",
            "Epoch 18/20\n",
            "35/35 [==============================] - 0s 2ms/step - loss: 0.0665 - accuracy: 0.9942 - val_loss: 0.0640 - val_accuracy: 0.9964\n",
            "Epoch 19/20\n",
            "35/35 [==============================] - 0s 2ms/step - loss: 0.0569 - accuracy: 0.9983 - val_loss: 0.0613 - val_accuracy: 0.9964\n",
            "Epoch 20/20\n",
            "35/35 [==============================] - 0s 2ms/step - loss: 0.0548 - accuracy: 0.9956 - val_loss: 0.0586 - val_accuracy: 0.9964\n"
          ],
          "name": "stdout"
        }
      ]
    },
    {
      "cell_type": "code",
      "metadata": {
        "colab": {
          "base_uri": "https://localhost:8080/",
          "height": 295
        },
        "id": "nXTsaTC-V2vR",
        "outputId": "0678fed8-d19a-433b-9ae0-67e4f1c8cb1d"
      },
      "source": [
        "loss_train = history_5.history['loss']\n",
        "loss_val = history_5.history['val_loss']\n",
        "\n",
        "acc_train = history_5.history['accuracy']\n",
        "acc_val = history_5.history['val_accuracy']\n",
        "\n",
        "\n",
        "epochs = range(0,20)\n",
        "\n",
        "plt.plot(epochs, loss_train, 'g', label='Training loss')\n",
        "plt.plot(epochs, loss_val, 'b', label='Validation loss')\n",
        "\n",
        "\n",
        "plt.plot(epochs, acc_train, 'red', label='Training accuracy')\n",
        "plt.plot(epochs, acc_val, 'black', label='Validation accuracy')\n",
        "\n",
        "\n",
        "plt.title('Training and Validation loss')\n",
        "plt.xlabel('Epochs')\n",
        "plt.ylabel('Loss')\n",
        "plt.legend()\n",
        "\n",
        "plt.show()"
      ],
      "execution_count": 60,
      "outputs": [
        {
          "output_type": "display_data",
          "data": {
            "image/png": "[encoded data removed]",
            "text/plain": [
              "<Figure size 432x288 with 1 Axes>"
            ]
          },
          "metadata": {
            "tags": [],
            "needs_background": "light"
          }
        }
      ]
    },
    {
      "cell_type": "code",
      "metadata": {
        "colab": {
          "base_uri": "https://localhost:8080/"
        },
        "id": "XPcKVEAvV2jG",
        "outputId": "09a35fd6-9e79-41d0-abaf-14eed9b19091"
      },
      "source": [
        "y_test_classes_5 = np.argmax(y_test_5, axis=1)\n",
        "\n",
        "yhat_classes_5 = model_5.predict_classes(x_test_5, verbose = 0)\n",
        "yhat_classes_5 =  np.reshape(yhat_classes_5, (-1, 1))\n",
        "\n",
        "yhat_classes_5 = yhat_classes_5[:, 0]\n",
        " \n",
        "\n",
        "accuracy_5 = accuracy_score(y_test_classes_5, yhat_classes_5)\n",
        "print('Accuracy: %f' % accuracy_5)\n",
        "\n",
        "precision_5 = precision_score(y_test_classes_5, yhat_classes_5)\n",
        "print('Precision: %f' % precision_5)\n",
        "\n",
        "recall_5 = recall_score(y_test_classes_5, yhat_classes_5)\n",
        "print('Recall: %f' % recall_5)\n",
        "\n",
        "f1_5 = f1_score(y_test_classes_5, yhat_classes_5)\n",
        "print('F1 score: %f' % f1_5)"
      ],
      "execution_count": 54,
      "outputs": [
        {
          "output_type": "stream",
          "text": [
            "Accuracy: 0.996364\n",
            "Precision: 0.992188\n",
            "Recall: 1.000000\n",
            "F1 score: 0.996078\n"
          ],
          "name": "stdout"
        },
        {
          "output_type": "stream",
          "text": [
            "/usr/local/lib/python3.7/dist-packages/tensorflow/python/keras/engine/sequential.py:450: UserWarning: `model.predict_classes()` is deprecated and will be removed after 2021-01-01. Please use instead:* `np.argmax(model.predict(x), axis=-1)`,   if your model does multi-class classification   (e.g. if it uses a `softmax` last-layer activation).* `(model.predict(x) > 0.5).astype(\"int32\")`,   if your model does binary classification   (e.g. if it uses a `sigmoid` last-layer activation).\n",
            "  warnings.warn('`model.predict_classes()` is deprecated and '\n"
          ],
          "name": "stderr"
        }
      ]
    }
  ]
}